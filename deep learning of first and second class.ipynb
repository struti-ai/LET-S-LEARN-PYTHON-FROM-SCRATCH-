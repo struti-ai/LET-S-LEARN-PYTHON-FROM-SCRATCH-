{
 "cells": [
  {
   "cell_type": "code",
   "execution_count": 4,
   "id": "2a18fa4a",
   "metadata": {},
   "outputs": [],
   "source": [
    "str1 = \"data science with coders ready\""
   ]
  },
  {
   "cell_type": "code",
   "execution_count": 5,
   "id": "c71012e2",
   "metadata": {},
   "outputs": [
    {
     "data": {
      "text/plain": [
       "'data science with coders ready'"
      ]
     },
     "execution_count": 5,
     "metadata": {},
     "output_type": "execute_result"
    }
   ],
   "source": [
    "str1"
   ]
  },
  {
   "cell_type": "markdown",
   "id": "a8eecf6d",
   "metadata": {},
   "source": [
    "# string concatenation\n",
    "used to link 2 or more strings is known as string concatenation\n"
   ]
  },
  {
   "cell_type": "code",
   "execution_count": 6,
   "id": "17b12bac",
   "metadata": {},
   "outputs": [
    {
     "name": "stdout",
     "output_type": "stream",
     "text": [
      "codersreadytrainee\n"
     ]
    }
   ],
   "source": [
    "#sum(+)operator\n",
    "t1 = \"coders\"\n",
    "t2 = \"ready\"\n",
    "t3 = \"trainee\"\n",
    "t4 = t1+t2+t3\n",
    "print(t4)"
   ]
  },
  {
   "cell_type": "code",
   "execution_count": 7,
   "id": "ee04ec8e",
   "metadata": {},
   "outputs": [
    {
     "name": "stdout",
     "output_type": "stream",
     "text": [
      "concatenation string using join() method= data science with python\n"
     ]
    }
   ],
   "source": [
    "#join method\n",
    "s1 = \"data science\"\n",
    "s2 = \"with python\"\n",
    "print(\"concatenation string using join() method=\" ,\" \".join([s1,s2]))"
   ]
  },
  {
   "cell_type": "markdown",
   "id": "df3b9ab8",
   "metadata": {},
   "source": [
    "# split method\n",
    "is used to change string in list , or it will split the string into prts by using seperator\n",
    "\n",
    "\n",
    "syntax = string.split(seperator, maxsplit)"
   ]
  },
  {
   "cell_type": "code",
   "execution_count": 8,
   "id": "e7a3c0e8",
   "metadata": {},
   "outputs": [
    {
     "name": "stdout",
     "output_type": "stream",
     "text": [
      "['hello', ' we are here to learn coding']\n"
     ]
    }
   ],
   "source": [
    "txt = \"hello, we are here to learn coding\"\n",
    "x = txt.split(\",\")\n",
    "print(x)"
   ]
  },
  {
   "cell_type": "code",
   "execution_count": 9,
   "id": "77283fba",
   "metadata": {},
   "outputs": [
    {
     "name": "stdout",
     "output_type": "stream",
     "text": [
      "['reena', 'geeta', 'rama', 'heena']\n"
     ]
    }
   ],
   "source": [
    "tnt = \"reena@geeta@rama@heena\"\n",
    "x  = tnt.split(\"@\")\n",
    "print(x)"
   ]
  },
  {
   "cell_type": "markdown",
   "id": "3d2c7f31",
   "metadata": {},
   "source": [
    "# isupper method\n",
    "it will return boolen value(true and false value  if the string is in upper case letters"
   ]
  },
  {
   "cell_type": "code",
   "execution_count": 12,
   "id": "9737282d",
   "metadata": {},
   "outputs": [
    {
     "name": "stdout",
     "output_type": "stream",
     "text": [
      "False\n",
      "False\n",
      "True\n"
     ]
    }
   ],
   "source": [
    " a = \"Hello World!\"\n",
    "b =  \"hello 123\"\n",
    "c = \"THIS MOVIE IS GREAT \"\n",
    "print(a.isupper())\n",
    "print(b.isupper())\n",
    "print(c.isupper())\n",
    "     \n"
   ]
  },
  {
   "cell_type": "markdown",
   "id": "d1971d7d",
   "metadata": {},
   "source": [
    "# is lower method"
   ]
  },
  {
   "cell_type": "code",
   "execution_count": 13,
   "id": "7e83a925",
   "metadata": {},
   "outputs": [
    {
     "name": "stdout",
     "output_type": "stream",
     "text": [
      "True\n",
      "False\n"
     ]
    }
   ],
   "source": [
    "tst = \"hello@ world\"\n",
    "d = \"THIS MOVIE IS GREAT\"\n",
    "print(tst.islower())\n",
    "print(d.islower())\n"
   ]
  },
  {
   "cell_type": "markdown",
   "id": "195d2d9f",
   "metadata": {},
   "source": [
    "# title method\n",
    "used to change the first letter of the word into capital letter and othen in small"
   ]
  },
  {
   "cell_type": "code",
   "execution_count": 14,
   "id": "eed0b1d5",
   "metadata": {},
   "outputs": [
    {
     "name": "stdout",
     "output_type": "stream",
     "text": [
      "Today Was A Very Rainy Day\n"
     ]
    }
   ],
   "source": [
    "str2 = \"toDay wAs a Very rainy day\"\n",
    "print(str2.title())"
   ]
  },
  {
   "cell_type": "markdown",
   "id": "dd5412ca",
   "metadata": {},
   "source": [
    "# find() method\n",
    "return index no. of particular letter"
   ]
  },
  {
   "cell_type": "code",
   "execution_count": 15,
   "id": "16e35c8f",
   "metadata": {},
   "outputs": [
    {
     "data": {
      "text/plain": [
       "20"
      ]
     },
     "execution_count": 15,
     "metadata": {},
     "output_type": "execute_result"
    }
   ],
   "source": [
    "text = \"today is a beutiful Day\"\n",
    "text.find(\"Day\")"
   ]
  },
  {
   "cell_type": "code",
   "execution_count": 16,
   "id": "63c68e5e",
   "metadata": {},
   "outputs": [
    {
     "data": {
      "text/plain": [
       "-1"
      ]
     },
     "execution_count": 16,
     "metadata": {},
     "output_type": "execute_result"
    }
   ],
   "source": [
    "text.find(\"coders\")"
   ]
  },
  {
   "cell_type": "markdown",
   "id": "7f46ba7c",
   "metadata": {},
   "source": [
    "# index () method\n",
    "it will print index no. when the word is there but if not it will return error"
   ]
  },
  {
   "cell_type": "code",
   "execution_count": 17,
   "id": "1acc706d",
   "metadata": {},
   "outputs": [
    {
     "data": {
      "text/plain": [
       "20"
      ]
     },
     "execution_count": 17,
     "metadata": {},
     "output_type": "execute_result"
    }
   ],
   "source": [
    "text = \"today is a beutiful Day\"\n",
    "text.index(\"Day\")\n"
   ]
  },
  {
   "cell_type": "code",
   "execution_count": 18,
   "id": "a89bcde4",
   "metadata": {},
   "outputs": [
    {
     "data": {
      "text/plain": [
       "18"
      ]
     },
     "execution_count": 18,
     "metadata": {},
     "output_type": "execute_result"
    }
   ],
   "source": [
    "df = \"khidkiyo k khdakne se khrakta h khdak singh,khdak singh k khdakne se khdakti h khidkiya\"\n",
    "df.count('k')\n"
   ]
  },
  {
   "cell_type": "code",
   "execution_count": 19,
   "id": "d23b7015",
   "metadata": {},
   "outputs": [
    {
     "data": {
      "text/plain": [
       "4"
      ]
     },
     "execution_count": 19,
     "metadata": {},
     "output_type": "execute_result"
    }
   ],
   "source": [
    "df.count('n')"
   ]
  },
  {
   "cell_type": "code",
   "execution_count": 20,
   "id": "3a13a6ce",
   "metadata": {},
   "outputs": [
    {
     "data": {
      "text/plain": [
       "8"
      ]
     },
     "execution_count": 20,
     "metadata": {},
     "output_type": "execute_result"
    }
   ],
   "source": [
    "df.count ('a')"
   ]
  },
  {
   "cell_type": "markdown",
   "id": "1ac2a03c",
   "metadata": {},
   "source": [
    "# list data type"
   ]
  },
  {
   "cell_type": "code",
   "execution_count": 2,
   "id": "3378b3bc",
   "metadata": {},
   "outputs": [
    {
     "data": {
      "text/plain": [
       "['hello', 4, True, 4.5]"
      ]
     },
     "execution_count": 2,
     "metadata": {},
     "output_type": "execute_result"
    }
   ],
   "source": [
    "list1 = ['hello',4,True,4.5]\n",
    "list1"
   ]
  },
  {
   "cell_type": "code",
   "execution_count": 3,
   "id": "1b3d490e",
   "metadata": {},
   "outputs": [
    {
     "data": {
      "text/plain": [
       "4.5"
      ]
     },
     "execution_count": 3,
     "metadata": {},
     "output_type": "execute_result"
    }
   ],
   "source": [
    "list1[3]"
   ]
  },
  {
   "cell_type": "code",
   "execution_count": 5,
   "id": "2056de99",
   "metadata": {},
   "outputs": [
    {
     "data": {
      "text/plain": [
       "[4, True, 4.5]"
      ]
     },
     "execution_count": 5,
     "metadata": {},
     "output_type": "execute_result"
    }
   ],
   "source": [
    "list1[-3:6]"
   ]
  },
  {
   "cell_type": "code",
   "execution_count": 16,
   "id": "53ae941b",
   "metadata": {},
   "outputs": [
    {
     "data": {
      "text/plain": [
       "[True, 4.5]"
      ]
     },
     "execution_count": 16,
     "metadata": {},
     "output_type": "execute_result"
    }
   ],
   "source": [
    "list1[2:]"
   ]
  },
  {
   "cell_type": "code",
   "execution_count": 13,
   "id": "97d51495",
   "metadata": {},
   "outputs": [
    {
     "data": {
      "text/plain": [
       "[4, True, 4.5]"
      ]
     },
     "execution_count": 13,
     "metadata": {},
     "output_type": "execute_result"
    }
   ],
   "source": [
    "list1[1:7]"
   ]
  },
  {
   "cell_type": "markdown",
   "id": "61e0f92f",
   "metadata": {},
   "source": [
    "# list operator"
   ]
  },
  {
   "cell_type": "code",
   "execution_count": 6,
   "id": "1aa5da28",
   "metadata": {
    "scrolled": true
   },
   "outputs": [
    {
     "name": "stdout",
     "output_type": "stream",
     "text": [
      "['apple', 'guave', 'mango', 'pinapple', 'grapes', 'apple', 'guave', 'mango', 'pinapple', 'grapes', 'apple', 'guave', 'mango', 'pinapple', 'grapes', 'apple', 'guave', 'mango', 'pinapple', 'grapes']\n"
     ]
    }
   ],
   "source": [
    "#repitition method using * operator ----- used to print that word for multiple time\n",
    "fruit = [\"apple\",\"guave\",\"mango\", \"pinapple\",\"grapes\"]\n",
    "print(fruit*4)"
   ]
  },
  {
   "cell_type": "code",
   "execution_count": 3,
   "id": "9d71772b",
   "metadata": {},
   "outputs": [
    {
     "name": "stdout",
     "output_type": "stream",
     "text": [
      "['apple', 'guave', 'mango', 'pinapple', 'grapes', 'apple', 'guave', 'mango', 'pinapple', 'grapes']\n"
     ]
    }
   ],
   "source": [
    "print(fruit*2)"
   ]
  },
  {
   "cell_type": "code",
   "execution_count": 18,
   "id": "40b738fc",
   "metadata": {},
   "outputs": [
    {
     "name": "stdout",
     "output_type": "stream",
     "text": [
      "['carrot', 'raddish', 'cauliflower', 'cabbage', 'potato', 'apple', 'guave', 'mango', 'pinapple', 'grapes']\n"
     ]
    }
   ],
   "source": [
    "#plus method\n",
    "veg = [\"carrot\",\"raddish\",\"cauliflower\",\"cabbage\",\"potato\"]\n",
    "a = veg+fruit\n",
    "print(a)"
   ]
  },
  {
   "cell_type": "markdown",
   "id": "79aa9d95",
   "metadata": {},
   "source": [
    "# list methods\n",
    "\n",
    "append() method---- list.appent(element)\n",
    "\n",
    "extend() method---- list.extend(iterable)\n",
    "\n",
    "insert() method---- list.insert(index number,element)\n",
    "\n",
    "remove() method---- list.remove(element)\n",
    "\n",
    "pop() method ---- list.pop(index)\n",
    "\n",
    "clear() method----list.clear()\n",
    "\n",
    "index() method----list.index(element)\n",
    "\n",
    "sort() method----list.sort(reverse=true/false,key=myfunc)\n",
    "\n",
    "count() method---- list.count(value)"
   ]
  },
  {
   "cell_type": "code",
   "execution_count": 19,
   "id": "f0b90d35",
   "metadata": {},
   "outputs": [
    {
     "data": {
      "text/plain": [
       "['apple', 'guave', 'mango', 'pinapple', 'grapes']"
      ]
     },
     "execution_count": 19,
     "metadata": {},
     "output_type": "execute_result"
    }
   ],
   "source": [
    "fruit"
   ]
  },
  {
   "cell_type": "code",
   "execution_count": 20,
   "id": "a0f084d1",
   "metadata": {
    "scrolled": true
   },
   "outputs": [
    {
     "data": {
      "text/plain": [
       "['apple', 'guave', 'mango', 'pinapple', 'grapes', 'banana']"
      ]
     },
     "execution_count": 20,
     "metadata": {},
     "output_type": "execute_result"
    }
   ],
   "source": [
    "fruit.append(\"banana\")\n",
    "fruit"
   ]
  },
  {
   "cell_type": "code",
   "execution_count": 4,
   "id": "ff70355d",
   "metadata": {},
   "outputs": [
    {
     "data": {
      "text/plain": [
       "['apple', 'guave', 'mango', 'pinapple', 'grapes', 'a', 'p', 'p', 'l', 'e']"
      ]
     },
     "execution_count": 4,
     "metadata": {},
     "output_type": "execute_result"
    }
   ],
   "source": [
    "fruit.extend(\"apple\")\n",
    "fruit"
   ]
  },
  {
   "cell_type": "code",
   "execution_count": 28,
   "id": "957c07ce",
   "metadata": {},
   "outputs": [
    {
     "name": "stdout",
     "output_type": "stream",
     "text": [
      "[{1, 2}, (3, 4), {5, 6, 7}]\n"
     ]
    }
   ],
   "source": [
    "mixedlist = [{1,2},{6,7,5,}]\n",
    "numtuple = (3,4)\n",
    "mixedlist.insert(1,numtuple)\n",
    "print(mixedlist)"
   ]
  },
  {
   "cell_type": "code",
   "execution_count": 36,
   "id": "a3ad4f14",
   "metadata": {},
   "outputs": [
    {
     "data": {
      "text/plain": [
       "['apple', 'guave', 'pinapple', 'grapes']"
      ]
     },
     "execution_count": 36,
     "metadata": {},
     "output_type": "execute_result"
    }
   ],
   "source": [
    "fruit.remove(\"banana\")\n",
    "fruit"
   ]
  },
  {
   "cell_type": "code",
   "execution_count": 6,
   "id": "2db526a9",
   "metadata": {},
   "outputs": [
    {
     "name": "stdout",
     "output_type": "stream",
     "text": [
      "[{5, 6, 7}]\n"
     ]
    }
   ],
   "source": [
    "mixedlist = [{1,2},{6,7,5,}]\n",
    "mixedlist.remove({1,2})\n",
    "print(mixedlist)"
   ]
  },
  {
   "cell_type": "code",
   "execution_count": 39,
   "id": "0d1c62ea",
   "metadata": {},
   "outputs": [
    {
     "data": {
      "text/plain": [
       "['apple', 'pinapple', 'grapes']"
      ]
     },
     "execution_count": 39,
     "metadata": {},
     "output_type": "execute_result"
    }
   ],
   "source": [
    "fruit.pop(1)\n",
    "fruit"
   ]
  },
  {
   "cell_type": "code",
   "execution_count": 48,
   "id": "b222114e",
   "metadata": {},
   "outputs": [
    {
     "data": {
      "text/plain": [
       "[{5, 6, 7}]"
      ]
     },
     "execution_count": 48,
     "metadata": {},
     "output_type": "execute_result"
    }
   ],
   "source": [
    "mixedlist = [{1,2},{6,7,5,}]\n",
    "mixedlist.pop(0)\n",
    "mixedlist"
   ]
  },
  {
   "cell_type": "code",
   "execution_count": 49,
   "id": "72aec8a0",
   "metadata": {},
   "outputs": [
    {
     "data": {
      "text/plain": [
       "[]"
      ]
     },
     "execution_count": 49,
     "metadata": {},
     "output_type": "execute_result"
    }
   ],
   "source": [
    "mixedlist.clear()\n",
    "mixedlist"
   ]
  },
  {
   "cell_type": "code",
   "execution_count": 7,
   "id": "9c6cdd33",
   "metadata": {},
   "outputs": [
    {
     "data": {
      "text/plain": [
       "['apple', 'guave', 'mango', 'pinapple', 'grapes']"
      ]
     },
     "execution_count": 7,
     "metadata": {},
     "output_type": "execute_result"
    }
   ],
   "source": [
    "fruit.index(\"pinapple\")\n",
    "fruit"
   ]
  },
  {
   "cell_type": "code",
   "execution_count": 52,
   "id": "85af88e8",
   "metadata": {},
   "outputs": [
    {
     "data": {
      "text/plain": [
       "1"
      ]
     },
     "execution_count": 52,
     "metadata": {},
     "output_type": "execute_result"
    }
   ],
   "source": [
    "fruit.count(\"pinapple\")\n"
   ]
  },
  {
   "cell_type": "code",
   "execution_count": 55,
   "id": "9906e168",
   "metadata": {},
   "outputs": [
    {
     "name": "stdout",
     "output_type": "stream",
     "text": [
      "['1', '3', '5', '7']\n"
     ]
    }
   ],
   "source": [
    "prime_number = ['3','5','7','1']\n",
    "\n",
    "prime_number.sort()\n",
    "\n",
    "print(prime_number)"
   ]
  },
  {
   "cell_type": "code",
   "execution_count": 57,
   "id": "131b0478",
   "metadata": {},
   "outputs": [
    {
     "data": {
      "text/plain": [
       "['u', 'o', 'i', 'e', 'a']"
      ]
     },
     "execution_count": 57,
     "metadata": {},
     "output_type": "execute_result"
    }
   ],
   "source": [
    "vowels = ['e','a','o','u','i']\n",
    "\n",
    "vowels.sort(reverse=True)\n",
    "\n",
    "vowels"
   ]
  },
  {
   "cell_type": "markdown",
   "id": "f1081880",
   "metadata": {},
   "source": [
    "# list comprehension"
   ]
  },
  {
   "cell_type": "code",
   "execution_count": 36,
   "id": "eb7e0213",
   "metadata": {},
   "outputs": [
    {
     "data": {
      "text/plain": [
       "['D',\n",
       " 'A',\n",
       " 'T',\n",
       " 'A',\n",
       " 'S',\n",
       " 'C',\n",
       " 'I',\n",
       " 'E',\n",
       " 'N',\n",
       " 'C',\n",
       " 'E',\n",
       " 'W',\n",
       " 'I',\n",
       " 'T',\n",
       " 'H',\n",
       " 'P',\n",
       " 'Y',\n",
       " 'T',\n",
       " 'H',\n",
       " 'O',\n",
       " 'N']"
      ]
     },
     "execution_count": 36,
     "metadata": {},
     "output_type": "execute_result"
    }
   ],
   "source": [
    "list2 = \"datasciencewithpython\"\n",
    "n = [x.upper() for x in list2]\n",
    "n"
   ]
  },
  {
   "cell_type": "code",
   "execution_count": 38,
   "id": "12e42155",
   "metadata": {},
   "outputs": [
    {
     "data": {
      "text/plain": [
       "[0, 1, 4, 9, 16, 25, 36, 49, 64, 81]"
      ]
     },
     "execution_count": 38,
     "metadata": {},
     "output_type": "execute_result"
    }
   ],
   "source": [
    "list3 = [x**2 for x in range(10)]\n",
    "list3"
   ]
  },
  {
   "cell_type": "markdown",
   "id": "496004e2",
   "metadata": {},
   "source": [
    "# tuple data type"
   ]
  },
  {
   "cell_type": "code",
   "execution_count": 39,
   "id": "a2249236",
   "metadata": {},
   "outputs": [
    {
     "data": {
      "text/plain": [
       "(1, 2, 3, 4, 5)"
      ]
     },
     "execution_count": 39,
     "metadata": {},
     "output_type": "execute_result"
    }
   ],
   "source": [
    "t1 = (1,2,3,4,5)\n",
    "t1"
   ]
  },
  {
   "cell_type": "markdown",
   "id": "f0f295b6",
   "metadata": {},
   "source": [
    "# ranges of indexes"
   ]
  },
  {
   "cell_type": "code",
   "execution_count": 41,
   "id": "26db0994",
   "metadata": {},
   "outputs": [
    {
     "name": "stdout",
     "output_type": "stream",
     "text": [
      "('hello', 'dear', 'coders', 'welcome')\n"
     ]
    }
   ],
   "source": [
    "tup = (\"hello\", \"dear\", \"coders\",\"welcome\",\"you\",\"all\")\n",
    "print(tup[0:4])"
   ]
  },
  {
   "cell_type": "code",
   "execution_count": 43,
   "id": "6875cebc",
   "metadata": {},
   "outputs": [
    {
     "data": {
      "text/plain": [
       "4"
      ]
     },
     "execution_count": 43,
     "metadata": {},
     "output_type": "execute_result"
    }
   ],
   "source": [
    "t1[3]"
   ]
  },
  {
   "cell_type": "code",
   "execution_count": 45,
   "id": "159937c2",
   "metadata": {},
   "outputs": [
    {
     "name": "stdout",
     "output_type": "stream",
     "text": [
      "('hello', 'coders', 'you')\n"
     ]
    }
   ],
   "source": [
    "#stepping of tuple\n",
    "print(tup[0::2])"
   ]
  },
  {
   "cell_type": "markdown",
   "id": "7c0ce006",
   "metadata": {},
   "source": [
    "# tuple concatenation"
   ]
  },
  {
   "cell_type": "code",
   "execution_count": 48,
   "id": "e2d6155c",
   "metadata": {},
   "outputs": [
    {
     "name": "stdout",
     "output_type": "stream",
     "text": [
      "original t1=(1, 3, 4, 5, 6)\n",
      "original t2=('hello', 'dear', 'coders', 'welcome', 'you')\n",
      "final:(1, 3, 4, 5, 6, 'hello', 'dear', 'coders', 'welcome', 'you')\n"
     ]
    }
   ],
   "source": [
    "t1 = (1,3,4,5,6)\n",
    "t2 = (\"hello\", \"dear\", \"coders\",\"welcome\",\"you\")\n",
    "print(\"original t1=\" +str(t1))\n",
    "print(\"original t2=\" +str(t2))\n",
    "\n",
    "res = t1+t2\n",
    "print(\"final:\" +str(res))"
   ]
  },
  {
   "cell_type": "code",
   "execution_count": 50,
   "id": "36c6bb7d",
   "metadata": {},
   "outputs": [
    {
     "name": "stdout",
     "output_type": "stream",
     "text": [
      "count of 5 in t1: 3\n",
      "count of hello: 1\n"
     ]
    }
   ],
   "source": [
    "t1 = (1,3,4,5,6,4,3,32,5,2,5,2,)\n",
    "t2 = (\"hello\", \"dear\", \"coders\",\"welcome\",\"happy\",\"you\")\n",
    "res = t1.count(5)\n",
    "print(\"count of 5 in t1:\", res)\n",
    "res = t2.count(\"hello\")\n",
    "print(\"count of hello:\",res)"
   ]
  },
  {
   "cell_type": "code",
   "execution_count": 52,
   "id": "aa62a14f",
   "metadata": {},
   "outputs": [
    {
     "name": "stdout",
     "output_type": "stream",
     "text": [
      "result: 1\n"
     ]
    }
   ],
   "source": [
    "t1 = (1,3,4,5,6,4,3,32,5,2,5,2,)\n",
    "res = t1.index(3)\n",
    "print(\"result:\" ,res)"
   ]
  },
  {
   "cell_type": "code",
   "execution_count": null,
   "id": "eb817ebc",
   "metadata": {},
   "outputs": [],
   "source": []
  }
 ],
 "metadata": {
  "kernelspec": {
   "display_name": "Python 3 (ipykernel)",
   "language": "python",
   "name": "python3"
  },
  "language_info": {
   "codemirror_mode": {
    "name": "ipython",
    "version": 3
   },
   "file_extension": ".py",
   "mimetype": "text/x-python",
   "name": "python",
   "nbconvert_exporter": "python",
   "pygments_lexer": "ipython3",
   "version": "3.10.9"
  }
 },
 "nbformat": 4,
 "nbformat_minor": 5
}
