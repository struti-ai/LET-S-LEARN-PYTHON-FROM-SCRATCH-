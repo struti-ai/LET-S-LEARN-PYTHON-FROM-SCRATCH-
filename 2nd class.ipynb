{
 "cells": [
  {
   "cell_type": "code",
   "execution_count": 1,
   "id": "3ed9f27c",
   "metadata": {},
   "outputs": [],
   "source": [
    "# importing system \n",
    "import sys"
   ]
  },
  {
   "cell_type": "code",
   "execution_count": 2,
   "id": "2924eccf",
   "metadata": {},
   "outputs": [
    {
     "name": "stdout",
     "output_type": "stream",
     "text": [
      "3.10.9 | packaged by Anaconda, Inc. | (main, Mar  1 2023, 18:18:15) [MSC v.1916 64 bit (AMD64)]\n"
     ]
    }
   ],
   "source": [
    "# to find system version\n",
    "print(sys.version)"
   ]
  },
  {
   "cell_type": "code",
   "execution_count": 3,
   "id": "113b0922",
   "metadata": {},
   "outputs": [],
   "source": [
    "# importing package\n",
    "import platform"
   ]
  },
  {
   "cell_type": "code",
   "execution_count": 4,
   "id": "4360ff41",
   "metadata": {},
   "outputs": [
    {
     "data": {
      "text/plain": [
       "'3.10.9'"
      ]
     },
     "execution_count": 4,
     "metadata": {},
     "output_type": "execute_result"
    }
   ],
   "source": [
    "# to find package version \n",
    "platform.python_version()"
   ]
  },
  {
   "attachments": {
    "datatype.jpg": {
     "image/jpeg": "[encoded data removed]"
    }
   },
   "cell_type": "markdown",
   "id": "c5cc25fc",
   "metadata": {},
   "source": [
    "![datatype.jpg](attachment:datatype.jpg)inserting image of datatype\n"
   ]
  },
  {
   "cell_type": "markdown",
   "id": "e193f5ae",
   "metadata": {},
   "source": [
    "DATA TYPES AND ITS CONVERSIONS "
   ]
  },
  {
   "cell_type": "code",
   "execution_count": 5,
   "id": "a07f847d",
   "metadata": {},
   "outputs": [],
   "source": [
    "x = 3"
   ]
  },
  {
   "cell_type": "code",
   "execution_count": 6,
   "id": "2336308d",
   "metadata": {},
   "outputs": [
    {
     "data": {
      "text/plain": [
       "int"
      ]
     },
     "execution_count": 6,
     "metadata": {},
     "output_type": "execute_result"
    }
   ],
   "source": [
    "# to find the type of any data type\n",
    "type(x)"
   ]
  },
  {
   "cell_type": "code",
   "execution_count": 7,
   "id": "cdc8d686",
   "metadata": {},
   "outputs": [
    {
     "data": {
      "text/plain": [
       "2099928629552"
      ]
     },
     "execution_count": 7,
     "metadata": {},
     "output_type": "execute_result"
    }
   ],
   "source": [
    "# to find the unique id no given to every thing in the memory\n",
    "id(x)"
   ]
  },
  {
   "cell_type": "code",
   "execution_count": 8,
   "id": "06a1417b",
   "metadata": {},
   "outputs": [],
   "source": [
    "#string datatype\n",
    "st = 'hope'"
   ]
  },
  {
   "cell_type": "code",
   "execution_count": 9,
   "id": "145e7e5b",
   "metadata": {},
   "outputs": [
    {
     "data": {
      "text/plain": [
       "str"
      ]
     },
     "execution_count": 9,
     "metadata": {},
     "output_type": "execute_result"
    }
   ],
   "source": [
    "type(st)"
   ]
  },
  {
   "cell_type": "code",
   "execution_count": 1,
   "id": "bff97baf",
   "metadata": {},
   "outputs": [],
   "source": [
    "#float datatype\n",
    "d = 4.786"
   ]
  },
  {
   "cell_type": "code",
   "execution_count": 2,
   "id": "5a6852a9",
   "metadata": {},
   "outputs": [
    {
     "data": {
      "text/plain": [
       "float"
      ]
     },
     "execution_count": 2,
     "metadata": {},
     "output_type": "execute_result"
    }
   ],
   "source": [
    "type(d)"
   ]
  },
  {
   "cell_type": "code",
   "execution_count": 3,
   "id": "d6f96183",
   "metadata": {},
   "outputs": [],
   "source": [
    "# complex datatype\n",
    "cn = 5.6 +4j"
   ]
  },
  {
   "cell_type": "code",
   "execution_count": 13,
   "id": "a35768ed",
   "metadata": {},
   "outputs": [
    {
     "data": {
      "text/plain": [
       "complex"
      ]
     },
     "execution_count": 13,
     "metadata": {},
     "output_type": "execute_result"
    }
   ],
   "source": [
    "type(cn)"
   ]
  },
  {
   "cell_type": "code",
   "execution_count": 14,
   "id": "84c792c8",
   "metadata": {},
   "outputs": [
    {
     "data": {
      "text/plain": [
       "5.6"
      ]
     },
     "execution_count": 14,
     "metadata": {},
     "output_type": "execute_result"
    }
   ],
   "source": [
    "#used to find the real part of the complex no.\n",
    "cn.real"
   ]
  },
  {
   "cell_type": "code",
   "execution_count": 16,
   "id": "643e2aed",
   "metadata": {},
   "outputs": [
    {
     "data": {
      "text/plain": [
       "4.0"
      ]
     },
     "execution_count": 16,
     "metadata": {},
     "output_type": "execute_result"
    }
   ],
   "source": [
    "#used to find the imaginary part of the complex no.\n",
    "cn.imag"
   ]
  },
  {
   "cell_type": "code",
   "execution_count": 18,
   "id": "0bebc697",
   "metadata": {},
   "outputs": [],
   "source": [
    "#boolean datatype\n",
    "bn = True"
   ]
  },
  {
   "cell_type": "code",
   "execution_count": 19,
   "id": "99667060",
   "metadata": {},
   "outputs": [
    {
     "data": {
      "text/plain": [
       "bool"
      ]
     },
     "execution_count": 19,
     "metadata": {},
     "output_type": "execute_result"
    }
   ],
   "source": [
    "type(bn)"
   ]
  },
  {
   "cell_type": "code",
   "execution_count": 20,
   "id": "82b6c227",
   "metadata": {},
   "outputs": [],
   "source": [
    "bx = None"
   ]
  },
  {
   "cell_type": "code",
   "execution_count": 22,
   "id": "32c65abd",
   "metadata": {},
   "outputs": [
    {
     "data": {
      "text/plain": [
       "True"
      ]
     },
     "execution_count": 22,
     "metadata": {},
     "output_type": "execute_result"
    }
   ],
   "source": [
    "#use of is \n",
    "bx is None"
   ]
  },
  {
   "cell_type": "code",
   "execution_count": 23,
   "id": "b19e3ca2",
   "metadata": {},
   "outputs": [
    {
     "data": {
      "text/plain": [
       "False"
      ]
     },
     "execution_count": 23,
     "metadata": {},
     "output_type": "execute_result"
    }
   ],
   "source": [
    "cn is int"
   ]
  },
  {
   "cell_type": "code",
   "execution_count": 26,
   "id": "94ec0866",
   "metadata": {},
   "outputs": [],
   "source": [
    "#conversion from float to int \n",
    "d = int(d)"
   ]
  },
  {
   "cell_type": "code",
   "execution_count": 27,
   "id": "bc2eeebd",
   "metadata": {},
   "outputs": [
    {
     "data": {
      "text/plain": [
       "int"
      ]
     },
     "execution_count": 27,
     "metadata": {},
     "output_type": "execute_result"
    }
   ],
   "source": [
    "type(d)"
   ]
  },
  {
   "cell_type": "code",
   "execution_count": 28,
   "id": "178203b4",
   "metadata": {},
   "outputs": [
    {
     "data": {
      "text/plain": [
       "'(5.6+4j)'"
      ]
     },
     "execution_count": 28,
     "metadata": {},
     "output_type": "execute_result"
    }
   ],
   "source": [
    "#string \n",
    "str(cn)"
   ]
  },
  {
   "cell_type": "code",
   "execution_count": 33,
   "id": "d70f8435",
   "metadata": {},
   "outputs": [],
   "source": [
    "st1 = 'coders ready23'\n"
   ]
  },
  {
   "cell_type": "code",
   "execution_count": 34,
   "id": "dcb8915c",
   "metadata": {},
   "outputs": [
    {
     "data": {
      "text/plain": [
       "14"
      ]
     },
     "execution_count": 34,
     "metadata": {},
     "output_type": "execute_result"
    }
   ],
   "source": [
    "#to find length of the string\n",
    "len(st1)"
   ]
  },
  {
   "cell_type": "code",
   "execution_count": 36,
   "id": "6994a996",
   "metadata": {},
   "outputs": [
    {
     "data": {
      "text/plain": [
       "'r'"
      ]
     },
     "execution_count": 36,
     "metadata": {},
     "output_type": "execute_result"
    }
   ],
   "source": [
    "#to find index\n",
    "st1[4]"
   ]
  },
  {
   "cell_type": "code",
   "execution_count": 37,
   "id": "f410b58c",
   "metadata": {},
   "outputs": [
    {
     "data": {
      "text/plain": [
       "'r'"
      ]
     },
     "execution_count": 37,
     "metadata": {},
     "output_type": "execute_result"
    }
   ],
   "source": [
    "st1[-7]"
   ]
  },
  {
   "cell_type": "code",
   "execution_count": 39,
   "id": "8b4e9e12",
   "metadata": {},
   "outputs": [
    {
     "data": {
      "text/plain": [
       "'23'"
      ]
     },
     "execution_count": 39,
     "metadata": {},
     "output_type": "execute_result"
    }
   ],
   "source": [
    "#used to find some specific value in the string  \n",
    "#in forward direction\n",
    "num = st1[12:14]\n",
    "num"
   ]
  },
  {
   "cell_type": "code",
   "execution_count": 43,
   "id": "18882911",
   "metadata": {},
   "outputs": [
    {
     "data": {
      "text/plain": [
       "'coders ready'"
      ]
     },
     "execution_count": 43,
     "metadata": {},
     "output_type": "execute_result"
    }
   ],
   "source": [
    "alp = st1[:12]\n",
    "alp"
   ]
  },
  {
   "cell_type": "code",
   "execution_count": 50,
   "id": "c2b73641",
   "metadata": {},
   "outputs": [
    {
     "data": {
      "text/plain": [
       "'coders ready23'"
      ]
     },
     "execution_count": 50,
     "metadata": {},
     "output_type": "execute_result"
    }
   ],
   "source": [
    "st1[:]"
   ]
  },
  {
   "cell_type": "code",
   "execution_count": 51,
   "id": "fe97cda5",
   "metadata": {},
   "outputs": [
    {
     "data": {
      "text/plain": [
       "'coders ready23'"
      ]
     },
     "execution_count": 51,
     "metadata": {},
     "output_type": "execute_result"
    }
   ],
   "source": [
    "st1"
   ]
  },
  {
   "cell_type": "code",
   "execution_count": 60,
   "id": "355347f1",
   "metadata": {},
   "outputs": [
    {
     "data": {
      "text/plain": [
       "'od'"
      ]
     },
     "execution_count": 60,
     "metadata": {},
     "output_type": "execute_result"
    }
   ],
   "source": [
    "# for reverse order but python always read fron left to right\n",
    "num = st1[-13:-11]\n",
    "num"
   ]
  },
  {
   "cell_type": "code",
   "execution_count": 64,
   "id": "6ed754c1",
   "metadata": {},
   "outputs": [
    {
     "data": {
      "text/plain": [
       "'23'"
      ]
     },
     "execution_count": 64,
     "metadata": {},
     "output_type": "execute_result"
    }
   ],
   "source": [
    "num1 = st1[-2:34]\n",
    "num1"
   ]
  },
  {
   "cell_type": "code",
   "execution_count": 65,
   "id": "2cd0dd11",
   "metadata": {},
   "outputs": [
    {
     "data": {
      "text/plain": [
       "'23'"
      ]
     },
     "execution_count": 65,
     "metadata": {},
     "output_type": "execute_result"
    }
   ],
   "source": [
    "num2 = st1[-2:]\n",
    "num2"
   ]
  },
  {
   "cell_type": "code",
   "execution_count": 67,
   "id": "dcb3ad8b",
   "metadata": {
    "collapsed": true
   },
   "outputs": [
    {
     "data": {
      "text/plain": [
       "'s'"
      ]
     },
     "execution_count": 67,
     "metadata": {},
     "output_type": "execute_result"
    }
   ],
   "source": [
    "st1[5] "
   ]
  },
  {
   "cell_type": "markdown",
   "id": "538c001c",
   "metadata": {},
   "source": [
    " #string are unmutable ie we can not change the value of string \n",
    " \n",
    "st1[5]='rrr'"
   ]
  },
  {
   "cell_type": "code",
   "execution_count": 70,
   "id": "82dda3b9",
   "metadata": {},
   "outputs": [],
   "source": [
    "list1 = ['abhishek',23, True, 8.9,['shruti','sneha',6],None]"
   ]
  },
  {
   "cell_type": "code",
   "execution_count": 71,
   "id": "f83b15ef",
   "metadata": {},
   "outputs": [
    {
     "data": {
      "text/plain": [
       "['abhishek', 23, True, 8.9, ['shruti', 'sneha', 6], None]"
      ]
     },
     "execution_count": 71,
     "metadata": {},
     "output_type": "execute_result"
    }
   ],
   "source": [
    "list1"
   ]
  },
  {
   "cell_type": "code",
   "execution_count": 83,
   "id": "d1c35fdb",
   "metadata": {},
   "outputs": [
    {
     "data": {
      "text/plain": [
       "['shruti', 'sneha', 6]"
      ]
     },
     "execution_count": 83,
     "metadata": {},
     "output_type": "execute_result"
    }
   ],
   "source": [
    "num = list1[4]\n",
    "num"
   ]
  },
  {
   "cell_type": "code",
   "execution_count": 84,
   "id": "c7554426",
   "metadata": {},
   "outputs": [
    {
     "data": {
      "text/plain": [
       "'sneha'"
      ]
     },
     "execution_count": 84,
     "metadata": {},
     "output_type": "execute_result"
    }
   ],
   "source": [
    "list1[4][1]"
   ]
  },
  {
   "cell_type": "code",
   "execution_count": 85,
   "id": "b0b602e2",
   "metadata": {},
   "outputs": [],
   "source": [
    "list1[4][1] = 'ankit'"
   ]
  },
  {
   "cell_type": "code",
   "execution_count": 86,
   "id": "23142b95",
   "metadata": {},
   "outputs": [
    {
     "data": {
      "text/plain": [
       "['abhishek', 23, True, 8.9, ['shruti', 'ankit', 6], None]"
      ]
     },
     "execution_count": 86,
     "metadata": {},
     "output_type": "execute_result"
    }
   ],
   "source": [
    "# lists are mutable \n",
    "list1"
   ]
  },
  {
   "cell_type": "code",
   "execution_count": 88,
   "id": "cd34971e",
   "metadata": {},
   "outputs": [
    {
     "data": {
      "text/plain": [
       "[8.9, ['shruti', 'ankit', 6], None]"
      ]
     },
     "execution_count": 88,
     "metadata": {},
     "output_type": "execute_result"
    }
   ],
   "source": [
    "list1[3:]"
   ]
  },
  {
   "cell_type": "code",
   "execution_count": 96,
   "id": "b1cd5e31",
   "metadata": {},
   "outputs": [],
   "source": [
    "# tuples are immutable\n",
    "tuple1 = ( 'abhishek',23, True, 8.9,['shruti','sneha',6],None)"
   ]
  },
  {
   "cell_type": "code",
   "execution_count": 90,
   "id": "97ec729e",
   "metadata": {},
   "outputs": [
    {
     "data": {
      "text/plain": [
       "tuple"
      ]
     },
     "execution_count": 90,
     "metadata": {},
     "output_type": "execute_result"
    }
   ],
   "source": [
    "type(tuple1)"
   ]
  },
  {
   "cell_type": "code",
   "execution_count": 91,
   "id": "a5e808ee",
   "metadata": {},
   "outputs": [
    {
     "data": {
      "text/plain": [
       "'sneha'"
      ]
     },
     "execution_count": 91,
     "metadata": {},
     "output_type": "execute_result"
    }
   ],
   "source": [
    "tuple1[4][1]"
   ]
  },
  {
   "cell_type": "code",
   "execution_count": 93,
   "id": "6409ccd6",
   "metadata": {},
   "outputs": [
    {
     "data": {
      "text/plain": [
       "('abhishek', 23, True, 8.9, ['shruti', 'shruti', 6], None)"
      ]
     },
     "execution_count": 93,
     "metadata": {},
     "output_type": "execute_result"
    }
   ],
   "source": [
    "tuple1[4][1] = 'shruti'\n",
    "tuple1"
   ]
  },
  {
   "cell_type": "markdown",
   "id": "50d06683",
   "metadata": {},
   "source": [
    "#this is a part of list in the tuple thats why we cant change it\n",
    "tuple1[3] = 67"
   ]
  },
  {
   "cell_type": "code",
   "execution_count": 98,
   "id": "dfadeada",
   "metadata": {},
   "outputs": [],
   "source": [
    "# append is used to add any an element in the string but it will be added to the last\n",
    "list1.append('rishav')"
   ]
  },
  {
   "cell_type": "code",
   "execution_count": 99,
   "id": "d8d0e903",
   "metadata": {},
   "outputs": [
    {
     "data": {
      "text/plain": [
       "['abhishek', 23, True, 8.9, ['shruti', 'ankit', 6], None, 'rishav']"
      ]
     },
     "execution_count": 99,
     "metadata": {},
     "output_type": "execute_result"
    }
   ],
   "source": [
    "list1"
   ]
  },
  {
   "cell_type": "code",
   "execution_count": 100,
   "id": "f0d38bbc",
   "metadata": {},
   "outputs": [
    {
     "data": {
      "text/plain": [
       "['abhishek', 23, 'sneha', True, 8.9, ['shruti', 'ankit', 6], None, 'rishav']"
      ]
     },
     "execution_count": 100,
     "metadata": {},
     "output_type": "execute_result"
    }
   ],
   "source": [
    "# insert is use to add aspecified element at the secified location \n",
    "list1.insert(2,'sneha')\n",
    "list1\n"
   ]
  },
  {
   "cell_type": "code",
   "execution_count": 101,
   "id": "46707be6",
   "metadata": {},
   "outputs": [
    {
     "data": {
      "text/plain": [
       "['abhishek', 23, 'sneha', True, ['shruti', 'ankit', 6], None, 'rishav']"
      ]
     },
     "execution_count": 101,
     "metadata": {},
     "output_type": "execute_result"
    }
   ],
   "source": [
    "#remove is used to delete the specific element from the list\n",
    "list1.remove(8.9)\n",
    "list1"
   ]
  },
  {
   "cell_type": "code",
   "execution_count": 103,
   "id": "7e898ad9",
   "metadata": {},
   "outputs": [
    {
     "data": {
      "text/plain": [
       "23"
      ]
     },
     "execution_count": 103,
     "metadata": {},
     "output_type": "execute_result"
    }
   ],
   "source": [
    "# pop is used to print the specifid element at the address\n",
    "list1.pop(1)"
   ]
  },
  {
   "cell_type": "code",
   "execution_count": 104,
   "id": "0a67ca0d",
   "metadata": {},
   "outputs": [
    {
     "data": {
      "text/plain": [
       "['abhishek', 'sneha', True, ['shruti', 'ankit', 6], None, 'rishav']"
      ]
     },
     "execution_count": 104,
     "metadata": {},
     "output_type": "execute_result"
    }
   ],
   "source": [
    "list1"
   ]
  },
  {
   "cell_type": "code",
   "execution_count": 113,
   "id": "088c8f4f",
   "metadata": {},
   "outputs": [],
   "source": [
    "#dictionary are organized\n",
    "dict1 = {'batch24':'sneha','roll':56}"
   ]
  },
  {
   "cell_type": "code",
   "execution_count": 107,
   "id": "36f480dd",
   "metadata": {},
   "outputs": [
    {
     "data": {
      "text/plain": [
       "dict_keys(['batch24', 'roll'])"
      ]
     },
     "execution_count": 107,
     "metadata": {},
     "output_type": "execute_result"
    }
   ],
   "source": [
    "dict1.keys()"
   ]
  },
  {
   "cell_type": "code",
   "execution_count": 109,
   "id": "524b0ce4",
   "metadata": {},
   "outputs": [
    {
     "data": {
      "text/plain": [
       "dict_values(['sneha', 56])"
      ]
     },
     "execution_count": 109,
     "metadata": {},
     "output_type": "execute_result"
    }
   ],
   "source": [
    "dict1.values()"
   ]
  },
  {
   "cell_type": "code",
   "execution_count": 110,
   "id": "360c23dc",
   "metadata": {},
   "outputs": [
    {
     "data": {
      "text/plain": [
       "'sneha'"
      ]
     },
     "execution_count": 110,
     "metadata": {},
     "output_type": "execute_result"
    }
   ],
   "source": [
    "dict1['batch24']"
   ]
  },
  {
   "cell_type": "code",
   "execution_count": 111,
   "id": "fa21015a",
   "metadata": {},
   "outputs": [
    {
     "data": {
      "text/plain": [
       "{'batch24': 'sneha', 'roll': 12}"
      ]
     },
     "execution_count": 111,
     "metadata": {},
     "output_type": "execute_result"
    }
   ],
   "source": [
    "dict1.update({'roll':12})\n",
    "dict1"
   ]
  },
  {
   "cell_type": "code",
   "execution_count": 122,
   "id": "ac4b3c32",
   "metadata": {},
   "outputs": [],
   "source": [
    "set1 = {'abhishek', 'sneha', 'shruti', 'krishnan','raman'}\n"
   ]
  },
  {
   "cell_type": "code",
   "execution_count": 123,
   "id": "a46ac5f8",
   "metadata": {},
   "outputs": [
    {
     "data": {
      "text/plain": [
       "{'abhishek', 'krishnan', 'raman', 'shruti', 'sneha'}"
      ]
     },
     "execution_count": 123,
     "metadata": {},
     "output_type": "execute_result"
    }
   ],
   "source": [
    "set1"
   ]
  },
  {
   "cell_type": "code",
   "execution_count": 124,
   "id": "cf3583ee",
   "metadata": {},
   "outputs": [],
   "source": [
    "set2 = {'ankit', 'shruti','rishav','nikhil'}"
   ]
  },
  {
   "cell_type": "code",
   "execution_count": 125,
   "id": "2fa85018",
   "metadata": {},
   "outputs": [],
   "source": [
    "nest1 = set1| set2"
   ]
  },
  {
   "cell_type": "code",
   "execution_count": 126,
   "id": "4ffa3ae6",
   "metadata": {},
   "outputs": [
    {
     "data": {
      "text/plain": [
       "{'abhishek',\n",
       " 'ankit',\n",
       " 'krishnan',\n",
       " 'nikhil',\n",
       " 'raman',\n",
       " 'rishav',\n",
       " 'shruti',\n",
       " 'sneha'}"
      ]
     },
     "execution_count": 126,
     "metadata": {},
     "output_type": "execute_result"
    }
   ],
   "source": [
    "nest1"
   ]
  },
  {
   "cell_type": "code",
   "execution_count": 129,
   "id": "8cb5a82e",
   "metadata": {},
   "outputs": [],
   "source": [
    "nest2 = set1 & set2"
   ]
  },
  {
   "cell_type": "code",
   "execution_count": 130,
   "id": "559a5b8c",
   "metadata": {},
   "outputs": [
    {
     "data": {
      "text/plain": [
       "{'shruti'}"
      ]
     },
     "execution_count": 130,
     "metadata": {},
     "output_type": "execute_result"
    }
   ],
   "source": [
    "nest2"
   ]
  },
  {
   "cell_type": "code",
   "execution_count": null,
   "id": "55c8bce5",
   "metadata": {},
   "outputs": [],
   "source": []
  }
 ],
 "metadata": {
  "kernelspec": {
   "display_name": "Python 3 (ipykernel)",
   "language": "python",
   "name": "python3"
  },
  "language_info": {
   "codemirror_mode": {
    "name": "ipython",
    "version": 3
   },
   "file_extension": ".py",
   "mimetype": "text/x-python",
   "name": "python",
   "nbconvert_exporter": "python",
   "pygments_lexer": "ipython3",
   "version": "3.10.9"
  }
 },
 "nbformat": 4,
 "nbformat_minor": 5
}
